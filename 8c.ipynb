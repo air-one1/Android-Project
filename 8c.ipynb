{
  "nbformat": 4,
  "nbformat_minor": 0,
  "metadata": {
    "colab": {
      "provenance": [],
      "include_colab_link": true
    },
    "kernelspec": {
      "name": "python3",
      "display_name": "Python 3"
    },
    "language_info": {
      "name": "python"
    }
  },
  "cells": [
    {
      "cell_type": "markdown",
      "metadata": {
        "id": "view-in-github",
        "colab_type": "text"
      },
      "source": [
        "<a href=\"https://colab.research.google.com/github/air-one1/Android-Project/blob/main/8c.ipynb\" target=\"_parent\"><img src=\"https://colab.research.google.com/assets/colab-badge.svg\" alt=\"Open In Colab\"/></a>"
      ]
    },
    {
      "cell_type": "code",
      "execution_count": null,
      "metadata": {
        "id": "9wkSFGScNZtp"
      },
      "outputs": [],
      "source": [
        "#8c - irem\n",
        "import matplotlib.pyplot as plt\n",
        "import numpy as np\n",
        "\n",
        "# PI controller tuning parameters for both PC1 (H2) and PC2 (O2)\n",
        "K = 1 / 0.1  # From the process transfer function\n",
        "Lambda = 30 # Closed-loop time constant in s\n",
        "Kc = 2 / (K * Lambda)  # Proportional gain\n",
        "tau_i = 2 * Lambda  # Integral time constant\n",
        "\n",
        "u_bias = 0\n",
        "I_H2 = 0  # Initialize integral term for H2\n",
        "I_O2 = 0  # Initialize integral term for O2\n",
        "\n",
        "dt = 3  # Time step (seconds)\n",
        "\n",
        "# Simulation time\n",
        "#time = range(0, 200)  # Simulating for 200 seconds\n",
        "time = np.linspace(0, 12000, 1000)  # simulate for 200 minutes\n",
        "\n",
        "# Lists to store outputs for H2 and O2\n",
        "u_H2_values = []\n",
        "rho_H2_values = []\n",
        "error_H2_values = []\n",
        "\n",
        "u_O2_values = []\n",
        "rho_O2_values = []\n",
        "error_O2_values = []\n",
        "\n",
        "# Setpoint for pressure control\n",
        "setpoint_H2 = 1  # Setpoint for H2 density?\n",
        "setpoint_O2 = 1  # Setpoint for O2 density?\n",
        "\n",
        "# Initial measured value\n",
        "measured_H2 = 0\n",
        "measured_O2 = 0\n",
        "\n",
        "# Constants for pressure-density conversion\n",
        "M_H2 = 0.002016  # Molar mass of hydrogen (kg/mol)\n",
        "M_O2 = 0.032  # Molar mass of oxygen (kg/mol)\n",
        "R = 8.314  # Universal gas constant (J/(mol·K))\n",
        "T = 353  # Temperature (in Kelvin)\n",
        "\n",
        "# Define PI controller function\n",
        "def pi_controller(setpoint, measured_value, Kc, tau_i, I, u_bias, dt):\n",
        "    error = setpoint - measured_value\n",
        "    P = Kc * error\n",
        "    I += error * dt  # Update integral term\n",
        "\n",
        "    # Calculate control signal u(t)\n",
        "    u = P + I / tau_i + u_bias\n",
        "    return u, I, error\n",
        "\n",
        "# Simulation loop\n",
        "for t in time:\n",
        "    u_H2, I_H2, error_H2 = pi_controller(setpoint_H2, measured_H2, Kc, tau_i, I_H2, u_bias, dt)   # PI controller for H2\n",
        "    u_O2, I_O2, error_O2 = pi_controller(setpoint_O2, measured_O2, Kc, tau_i, I_O2, u_bias, dt)    # PI controller for O2\n",
        "\n",
        "    # Convert control signal (u) to density using Ideal Gas Law\n",
        "    rho_H2 = (u_H2 * M_H2) / (R * T)\n",
        "    rho_O2 = (u_O2 * M_O2) / (R * T)\n",
        "\n",
        "    # Update measured value for next time step\n",
        "    measured_H2 += u_H2 * dt\n",
        "    measured_O2 += u_O2 * dt\n",
        "\n",
        "    # Store values\n",
        "    u_H2_values.append(u_H2)\n",
        "    rho_H2_values.append(rho_H2)\n",
        "    error_H2_values.append(error_H2)\n",
        "\n",
        "    u_O2_values.append(u_O2)\n",
        "    rho_O2_values.append(rho_O2)\n",
        "    error_O2_values.append(error_O2)\n",
        "\n",
        "plt.figure(figsize=(12, 8))\n",
        "\n",
        "# Plot H2\n",
        "plt.subplot(2, 1, 1)\n",
        "plt.plot(time, rho_H2_values, label=\"Density H2 (kg/m³)\", color=\"green\")\n",
        "plt.xlabel(\"Time (s)\")\n",
        "plt.ylabel(\"Density H2\")\n",
        "plt.title(\"PC1\")\n",
        "plt.legend()\n",
        "plt.grid()\n",
        "\n",
        "# Plot O2\n",
        "plt.subplot(2, 1, 2)\n",
        "plt.plot(time, rho_O2_values, label=\"Density O2 (kg/m³)\", color=\"blue\")\n",
        "plt.xlabel(\"Time (s)\")\n",
        "plt.ylabel(\"Density O2\")\n",
        "plt.title(\"PC2\")\n",
        "plt.legend()\n",
        "plt.grid()\n",
        "\n",
        "plt.tight_layout()\n",
        "plt.show()"
      ]
    },
    {
      "cell_type": "code",
      "source": [
        "## order of operations;\n",
        "## initialize funciton to solve in solve_ivp"
      ],
      "metadata": {
        "id": "xceZaXqYNqY5"
      },
      "execution_count": null,
      "outputs": []
    },
    {
      "cell_type": "markdown",
      "source": [
        "NEW 8C MODIFIED"
      ],
      "metadata": {
        "id": "k4GsLP_xNr9t"
      }
    },
    {
      "cell_type": "code",
      "source": [
        "import matplotlib.pyplot as plt\n",
        "import numpy as np\n",
        "7. from scipy.integrate import solve_ivp"
      ],
      "metadata": {
        "id": "XwR06leUNxRe"
      },
      "execution_count": null,
      "outputs": []
    }
  ]
}